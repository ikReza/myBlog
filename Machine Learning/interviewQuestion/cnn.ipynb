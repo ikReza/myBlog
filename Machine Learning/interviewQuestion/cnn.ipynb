{
 "cells": [
  {
   "cell_type": "markdown",
   "metadata": {},
   "source": [
    "# CNN (Convolutiona Neural Network)\n",
    "\n",
    "A Convolutional Neural Network (ConvNet/CNN) is\n",
    "- a Deep Learning algorithm\n",
    "- a neural network with convolution"
   ]
  },
  {
   "cell_type": "markdown",
   "metadata": {},
   "source": [
    "**jargon alert**\n",
    "- convolution\n",
    "- filters\n",
    "- pooling\n",
    "- padding\n",
    "- stride"
   ]
  },
  {
   "cell_type": "markdown",
   "metadata": {},
   "source": [
    "**Requirements:** There are only 2 requirements\n",
    "1. multiplication\n",
    "2. addition"
   ]
  },
  {
   "cell_type": "markdown",
   "metadata": {},
   "source": [
    "### Basic understanding\n",
    "\n",
    "1. If I have an imput image and I use gaussian filter(kernel), I'll get a blurred image\n",
    "2. If I have an imput image and I use edge detection filter(kernel), I'll get a sharp image\n",
    "\n",
    "![convolution](images/convolution.JPG)\n",
    "\n",
    "So, the convolve operation between the input image and filter to get the final image is called convolution.\n",
    "\n",
    "$inputImage*filter=outputImage$ here, $*$ sign is the convolve operation\n",
    "\n",
    "**what makes the 2 convoltuions different?**\n",
    "\n",
    "Ans: filter"
   ]
  },
  {
   "cell_type": "markdown",
   "metadata": {},
   "source": [
    "#### Example\n",
    "\n",
    "To determine the output size: $ \\frac{n-f+2p}{s} + 1 $\n",
    "\n",
    "where,\n",
    "- n = input image size(height/width)\n",
    "- f = filter size\n",
    "- p = padding\n",
    "- s = stride\n",
    "\n",
    "input image will not always be square whereas, kernel/filter is square by convention"
   ]
  },
  {
   "cell_type": "code",
   "execution_count": 2,
   "metadata": {},
   "outputs": [],
   "source": [
    "import numpy as np"
   ]
  },
  {
   "cell_type": "code",
   "execution_count": 28,
   "metadata": {},
   "outputs": [
    {
     "name": "stdout",
     "output_type": "stream",
     "text": [
      "input image: \n",
      "[[5 8 9 5]\n",
      " [0 0 1 7]\n",
      " [6 9 2 4]\n",
      " [5 2 4 2]]\n",
      "filter: \n",
      "[[0 1]\n",
      " [1 2]]\n",
      "output image: \n",
      "[[ 8 11 20]\n",
      " [24 14 17]\n",
      " [18 12 12]]\n"
     ]
    }
   ],
   "source": [
    "np.random.seed(1)\n",
    "inputImage = np.random.randint(0, 10, size=(4,4))\n",
    "filterr = np.random.randint(0, 3, size=(2,2))\n",
    "output = []\n",
    "\n",
    "# output image size calculation\n",
    "n, f, p, s = 4, 2, 0, 1\n",
    "outputSize = int((n - f + 2*p)/s + 1)\n",
    "\n",
    "print(f\"input image: \\n{inputImage}\")\n",
    "print(f\"filter: \\n{filterr}\")\n",
    "\n",
    "# convolve operation\n",
    "for r in range(len(inputImage)-1):\n",
    "    for c in range(len(inputImage)-1):\n",
    "        # 2 requirement as stated above: multiply, add\n",
    "        ans = np.multiply(inputImage[r:r+2, c:c+2], filterr).sum()\n",
    "        output.append(ans)\n",
    "\n",
    "outputImage = np.array(output)\n",
    "outputImage = outputImage.reshape(outputSize, outputSize)\n",
    "print(f\"output image: \\n{outputImage}\")"
   ]
  },
  {
   "cell_type": "markdown",
   "metadata": {},
   "source": [
    "### Q: What if we want the output image to be same size as input image?\n",
    "\n",
    "Ans: We add padding around the input image.\n",
    "\n",
    "### Q: So, what is filter actually doing?\n",
    "\n",
    "Ans: It slides along the input image to find a pattern. If it founds similiarity, it gives high value otherwise low value."
   ]
  },
  {
   "cell_type": "markdown",
   "metadata": {},
   "source": [
    "## Basic CNN architecture\n",
    "\n",
    "![cnn](images/cnn.JPG)"
   ]
  },
  {
   "cell_type": "markdown",
   "metadata": {},
   "source": [
    "### Q: What is pooling?\n",
    "\n",
    "- Pooling is added after the convolutiona layer.\n",
    "- At a high level, pooling is downsampling.\n",
    "- Types of pooling:\n",
    "    - max pooling\n",
    "    - average pooling\n",
    "- We define filter size & stride here also. But in here, when filter slides along the output image, it takes the maximum value(`max pooling`) withing its range instead of doing element-wise mulplication and addition\n",
    "\n",
    "![pooling](images/pooling.JPG)\n",
    "\n",
    "Hyperparameters in pooling:\n",
    "1. filter/pool size\n",
    "2. stride\n",
    "\n",
    "#### Why we use it?\n",
    "\n",
    "- It shrinks the image and we have less data for computation\n",
    "- convolution is a pattern finder(the highest number is the best matching location)\n",
    "\n",
    "#### Why convolution followed by pooling?\n",
    "\n"
   ]
  },
  {
   "cell_type": "code",
   "execution_count": null,
   "metadata": {},
   "outputs": [],
   "source": []
  }
 ],
 "metadata": {
  "kernelspec": {
   "display_name": "Python 3",
   "language": "python",
   "name": "python3"
  },
  "language_info": {
   "codemirror_mode": {
    "name": "ipython",
    "version": 3
   },
   "file_extension": ".py",
   "mimetype": "text/x-python",
   "name": "python",
   "nbconvert_exporter": "python",
   "pygments_lexer": "ipython3",
   "version": "3.7.4"
  }
 },
 "nbformat": 4,
 "nbformat_minor": 2
}
